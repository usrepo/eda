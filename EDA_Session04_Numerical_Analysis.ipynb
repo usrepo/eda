{
 "cells": [
  {
   "cell_type": "markdown",
   "id": "3dd16bd9",
   "metadata": {},
   "source": [
    "**Import packages**"
   ]
  },
  {
   "cell_type": "code",
   "execution_count": 85,
   "id": "7b1893ce",
   "metadata": {},
   "outputs": [],
   "source": [
    "import pandas as pd\n",
    "import numpy as np\n",
    "import matplotlib.pyplot as plt\n",
    "import seaborn as sns"
   ]
  },
  {
   "cell_type": "code",
   "execution_count": 86,
   "id": "1938db0d",
   "metadata": {},
   "outputs": [
    {
     "data": {
      "text/html": [
       "<div>\n",
       "<style scoped>\n",
       "    .dataframe tbody tr th:only-of-type {\n",
       "        vertical-align: middle;\n",
       "    }\n",
       "\n",
       "    .dataframe tbody tr th {\n",
       "        vertical-align: top;\n",
       "    }\n",
       "\n",
       "    .dataframe thead th {\n",
       "        text-align: right;\n",
       "    }\n",
       "</style>\n",
       "<table border=\"1\" class=\"dataframe\">\n",
       "  <thead>\n",
       "    <tr style=\"text-align: right;\">\n",
       "      <th></th>\n",
       "      <th>case_id</th>\n",
       "      <th>continent</th>\n",
       "      <th>education_of_employee</th>\n",
       "      <th>has_job_experience</th>\n",
       "      <th>requires_job_training</th>\n",
       "      <th>no_of_employees</th>\n",
       "      <th>yr_of_estab</th>\n",
       "      <th>region_of_employment</th>\n",
       "      <th>prevailing_wage</th>\n",
       "      <th>unit_of_wage</th>\n",
       "      <th>full_time_position</th>\n",
       "      <th>case_status</th>\n",
       "    </tr>\n",
       "  </thead>\n",
       "  <tbody>\n",
       "    <tr>\n",
       "      <th>0</th>\n",
       "      <td>EZYV01</td>\n",
       "      <td>Asia</td>\n",
       "      <td>High School</td>\n",
       "      <td>N</td>\n",
       "      <td>N</td>\n",
       "      <td>14513</td>\n",
       "      <td>2007</td>\n",
       "      <td>West</td>\n",
       "      <td>592.2029</td>\n",
       "      <td>Hour</td>\n",
       "      <td>Y</td>\n",
       "      <td>Denied</td>\n",
       "    </tr>\n",
       "    <tr>\n",
       "      <th>1</th>\n",
       "      <td>EZYV02</td>\n",
       "      <td>Asia</td>\n",
       "      <td>Master's</td>\n",
       "      <td>Y</td>\n",
       "      <td>N</td>\n",
       "      <td>2412</td>\n",
       "      <td>2002</td>\n",
       "      <td>Northeast</td>\n",
       "      <td>83425.6500</td>\n",
       "      <td>Year</td>\n",
       "      <td>Y</td>\n",
       "      <td>Certified</td>\n",
       "    </tr>\n",
       "    <tr>\n",
       "      <th>2</th>\n",
       "      <td>EZYV03</td>\n",
       "      <td>Asia</td>\n",
       "      <td>Bachelor's</td>\n",
       "      <td>N</td>\n",
       "      <td>Y</td>\n",
       "      <td>44444</td>\n",
       "      <td>2008</td>\n",
       "      <td>West</td>\n",
       "      <td>122996.8600</td>\n",
       "      <td>Year</td>\n",
       "      <td>Y</td>\n",
       "      <td>Denied</td>\n",
       "    </tr>\n",
       "    <tr>\n",
       "      <th>3</th>\n",
       "      <td>EZYV04</td>\n",
       "      <td>Asia</td>\n",
       "      <td>Bachelor's</td>\n",
       "      <td>N</td>\n",
       "      <td>N</td>\n",
       "      <td>98</td>\n",
       "      <td>1897</td>\n",
       "      <td>West</td>\n",
       "      <td>83434.0300</td>\n",
       "      <td>Year</td>\n",
       "      <td>Y</td>\n",
       "      <td>Denied</td>\n",
       "    </tr>\n",
       "    <tr>\n",
       "      <th>4</th>\n",
       "      <td>EZYV05</td>\n",
       "      <td>Africa</td>\n",
       "      <td>Master's</td>\n",
       "      <td>Y</td>\n",
       "      <td>N</td>\n",
       "      <td>1082</td>\n",
       "      <td>2005</td>\n",
       "      <td>South</td>\n",
       "      <td>149907.3900</td>\n",
       "      <td>Year</td>\n",
       "      <td>Y</td>\n",
       "      <td>Certified</td>\n",
       "    </tr>\n",
       "    <tr>\n",
       "      <th>...</th>\n",
       "      <td>...</td>\n",
       "      <td>...</td>\n",
       "      <td>...</td>\n",
       "      <td>...</td>\n",
       "      <td>...</td>\n",
       "      <td>...</td>\n",
       "      <td>...</td>\n",
       "      <td>...</td>\n",
       "      <td>...</td>\n",
       "      <td>...</td>\n",
       "      <td>...</td>\n",
       "      <td>...</td>\n",
       "    </tr>\n",
       "    <tr>\n",
       "      <th>25475</th>\n",
       "      <td>EZYV25476</td>\n",
       "      <td>Asia</td>\n",
       "      <td>Bachelor's</td>\n",
       "      <td>Y</td>\n",
       "      <td>Y</td>\n",
       "      <td>2601</td>\n",
       "      <td>2008</td>\n",
       "      <td>South</td>\n",
       "      <td>77092.5700</td>\n",
       "      <td>Year</td>\n",
       "      <td>Y</td>\n",
       "      <td>Certified</td>\n",
       "    </tr>\n",
       "    <tr>\n",
       "      <th>25476</th>\n",
       "      <td>EZYV25477</td>\n",
       "      <td>Asia</td>\n",
       "      <td>High School</td>\n",
       "      <td>Y</td>\n",
       "      <td>N</td>\n",
       "      <td>3274</td>\n",
       "      <td>2006</td>\n",
       "      <td>Northeast</td>\n",
       "      <td>279174.7900</td>\n",
       "      <td>Year</td>\n",
       "      <td>Y</td>\n",
       "      <td>Certified</td>\n",
       "    </tr>\n",
       "    <tr>\n",
       "      <th>25477</th>\n",
       "      <td>EZYV25478</td>\n",
       "      <td>Asia</td>\n",
       "      <td>Master's</td>\n",
       "      <td>Y</td>\n",
       "      <td>N</td>\n",
       "      <td>1121</td>\n",
       "      <td>1910</td>\n",
       "      <td>South</td>\n",
       "      <td>146298.8500</td>\n",
       "      <td>Year</td>\n",
       "      <td>N</td>\n",
       "      <td>Certified</td>\n",
       "    </tr>\n",
       "    <tr>\n",
       "      <th>25478</th>\n",
       "      <td>EZYV25479</td>\n",
       "      <td>Asia</td>\n",
       "      <td>Master's</td>\n",
       "      <td>Y</td>\n",
       "      <td>Y</td>\n",
       "      <td>1918</td>\n",
       "      <td>1887</td>\n",
       "      <td>West</td>\n",
       "      <td>86154.7700</td>\n",
       "      <td>Year</td>\n",
       "      <td>Y</td>\n",
       "      <td>Certified</td>\n",
       "    </tr>\n",
       "    <tr>\n",
       "      <th>25479</th>\n",
       "      <td>EZYV25480</td>\n",
       "      <td>Asia</td>\n",
       "      <td>Bachelor's</td>\n",
       "      <td>Y</td>\n",
       "      <td>N</td>\n",
       "      <td>3195</td>\n",
       "      <td>1960</td>\n",
       "      <td>Midwest</td>\n",
       "      <td>70876.9100</td>\n",
       "      <td>Year</td>\n",
       "      <td>Y</td>\n",
       "      <td>Certified</td>\n",
       "    </tr>\n",
       "  </tbody>\n",
       "</table>\n",
       "<p>25480 rows × 12 columns</p>\n",
       "</div>"
      ],
      "text/plain": [
       "         case_id continent education_of_employee has_job_experience  \\\n",
       "0         EZYV01      Asia           High School                  N   \n",
       "1         EZYV02      Asia              Master's                  Y   \n",
       "2         EZYV03      Asia            Bachelor's                  N   \n",
       "3         EZYV04      Asia            Bachelor's                  N   \n",
       "4         EZYV05    Africa              Master's                  Y   \n",
       "...          ...       ...                   ...                ...   \n",
       "25475  EZYV25476      Asia            Bachelor's                  Y   \n",
       "25476  EZYV25477      Asia           High School                  Y   \n",
       "25477  EZYV25478      Asia              Master's                  Y   \n",
       "25478  EZYV25479      Asia              Master's                  Y   \n",
       "25479  EZYV25480      Asia            Bachelor's                  Y   \n",
       "\n",
       "      requires_job_training  no_of_employees  yr_of_estab  \\\n",
       "0                         N            14513         2007   \n",
       "1                         N             2412         2002   \n",
       "2                         Y            44444         2008   \n",
       "3                         N               98         1897   \n",
       "4                         N             1082         2005   \n",
       "...                     ...              ...          ...   \n",
       "25475                     Y             2601         2008   \n",
       "25476                     N             3274         2006   \n",
       "25477                     N             1121         1910   \n",
       "25478                     Y             1918         1887   \n",
       "25479                     N             3195         1960   \n",
       "\n",
       "      region_of_employment  prevailing_wage unit_of_wage full_time_position  \\\n",
       "0                     West         592.2029         Hour                  Y   \n",
       "1                Northeast       83425.6500         Year                  Y   \n",
       "2                     West      122996.8600         Year                  Y   \n",
       "3                     West       83434.0300         Year                  Y   \n",
       "4                    South      149907.3900         Year                  Y   \n",
       "...                    ...              ...          ...                ...   \n",
       "25475                South       77092.5700         Year                  Y   \n",
       "25476            Northeast      279174.7900         Year                  Y   \n",
       "25477                South      146298.8500         Year                  N   \n",
       "25478                 West       86154.7700         Year                  Y   \n",
       "25479              Midwest       70876.9100         Year                  Y   \n",
       "\n",
       "      case_status  \n",
       "0          Denied  \n",
       "1       Certified  \n",
       "2          Denied  \n",
       "3          Denied  \n",
       "4       Certified  \n",
       "...           ...  \n",
       "25475   Certified  \n",
       "25476   Certified  \n",
       "25477   Certified  \n",
       "25478   Certified  \n",
       "25479   Certified  \n",
       "\n",
       "[25480 rows x 12 columns]"
      ]
     },
     "execution_count": 86,
     "metadata": {},
     "output_type": "execute_result"
    }
   ],
   "source": [
    "visa_df = pd.read_csv(r'C:\\Users\\saina\\Documents\\DataScience\\Datafiles\\Visadataset.csv')\n",
    "visa_df"
   ]
  },
  {
   "cell_type": "code",
   "execution_count": 87,
   "id": "fac3aa3a",
   "metadata": {},
   "outputs": [
    {
     "data": {
      "text/plain": [
       "(Index(['case_id', 'continent', 'education_of_employee', 'has_job_experience',\n",
       "        'requires_job_training', 'region_of_employment', 'unit_of_wage',\n",
       "        'full_time_position', 'case_status'],\n",
       "       dtype='object'),\n",
       " Index(['no_of_employees', 'yr_of_estab', 'prevailing_wage'], dtype='object'))"
      ]
     },
     "execution_count": 87,
     "metadata": {},
     "output_type": "execute_result"
    }
   ],
   "source": [
    "cat_columns = visa_df.select_dtypes(include='object').columns\n",
    "num_columns = visa_df.select_dtypes(exclude='object').columns\n",
    "cat_columns, num_columns"
   ]
  },
  {
   "cell_type": "markdown",
   "id": "6cd14d3b",
   "metadata": {},
   "source": [
    "**prevailing_wage**"
   ]
  },
  {
   "cell_type": "code",
   "execution_count": 5,
   "id": "a57e7f57",
   "metadata": {},
   "outputs": [
    {
     "data": {
      "text/plain": [
       "0           592.2029\n",
       "1         83425.6500\n",
       "2        122996.8600\n",
       "3         83434.0300\n",
       "4        149907.3900\n",
       "            ...     \n",
       "25475     77092.5700\n",
       "25476    279174.7900\n",
       "25477    146298.8500\n",
       "25478     86154.7700\n",
       "25479     70876.9100\n",
       "Name: prevailing_wage, Length: 25480, dtype: float64"
      ]
     },
     "execution_count": 5,
     "metadata": {},
     "output_type": "execute_result"
    }
   ],
   "source": [
    "visa_df.loc[:,'prevailing_wage']"
   ]
  },
  {
   "cell_type": "code",
   "execution_count": 7,
   "id": "c5e4268a",
   "metadata": {},
   "outputs": [
    {
     "data": {
      "text/html": [
       "<div>\n",
       "<style scoped>\n",
       "    .dataframe tbody tr th:only-of-type {\n",
       "        vertical-align: middle;\n",
       "    }\n",
       "\n",
       "    .dataframe tbody tr th {\n",
       "        vertical-align: top;\n",
       "    }\n",
       "\n",
       "    .dataframe thead th {\n",
       "        text-align: right;\n",
       "    }\n",
       "</style>\n",
       "<table border=\"1\" class=\"dataframe\">\n",
       "  <thead>\n",
       "    <tr style=\"text-align: right;\">\n",
       "      <th></th>\n",
       "      <th>prevailing_wage</th>\n",
       "    </tr>\n",
       "  </thead>\n",
       "  <tbody>\n",
       "    <tr>\n",
       "      <th>0</th>\n",
       "      <td>592.2029</td>\n",
       "    </tr>\n",
       "    <tr>\n",
       "      <th>1</th>\n",
       "      <td>83425.6500</td>\n",
       "    </tr>\n",
       "    <tr>\n",
       "      <th>2</th>\n",
       "      <td>122996.8600</td>\n",
       "    </tr>\n",
       "    <tr>\n",
       "      <th>3</th>\n",
       "      <td>83434.0300</td>\n",
       "    </tr>\n",
       "    <tr>\n",
       "      <th>4</th>\n",
       "      <td>149907.3900</td>\n",
       "    </tr>\n",
       "    <tr>\n",
       "      <th>...</th>\n",
       "      <td>...</td>\n",
       "    </tr>\n",
       "    <tr>\n",
       "      <th>25475</th>\n",
       "      <td>77092.5700</td>\n",
       "    </tr>\n",
       "    <tr>\n",
       "      <th>25476</th>\n",
       "      <td>279174.7900</td>\n",
       "    </tr>\n",
       "    <tr>\n",
       "      <th>25477</th>\n",
       "      <td>146298.8500</td>\n",
       "    </tr>\n",
       "    <tr>\n",
       "      <th>25478</th>\n",
       "      <td>86154.7700</td>\n",
       "    </tr>\n",
       "    <tr>\n",
       "      <th>25479</th>\n",
       "      <td>70876.9100</td>\n",
       "    </tr>\n",
       "  </tbody>\n",
       "</table>\n",
       "<p>25480 rows × 1 columns</p>\n",
       "</div>"
      ],
      "text/plain": [
       "       prevailing_wage\n",
       "0             592.2029\n",
       "1           83425.6500\n",
       "2          122996.8600\n",
       "3           83434.0300\n",
       "4          149907.3900\n",
       "...                ...\n",
       "25475       77092.5700\n",
       "25476      279174.7900\n",
       "25477      146298.8500\n",
       "25478       86154.7700\n",
       "25479       70876.9100\n",
       "\n",
       "[25480 rows x 1 columns]"
      ]
     },
     "execution_count": 7,
     "metadata": {},
     "output_type": "execute_result"
    }
   ],
   "source": [
    "visa_df.loc[:,['prevailing_wage']]"
   ]
  },
  {
   "cell_type": "code",
   "execution_count": 8,
   "id": "8b0f8943",
   "metadata": {},
   "outputs": [
    {
     "data": {
      "text/plain": [
       "0           592.2029\n",
       "1         83425.6500\n",
       "2        122996.8600\n",
       "3         83434.0300\n",
       "4        149907.3900\n",
       "            ...     \n",
       "25475     77092.5700\n",
       "25476    279174.7900\n",
       "25477    146298.8500\n",
       "25478     86154.7700\n",
       "25479     70876.9100\n",
       "Name: prevailing_wage, Length: 25480, dtype: float64"
      ]
     },
     "execution_count": 8,
     "metadata": {},
     "output_type": "execute_result"
    }
   ],
   "source": [
    "visa_df.iloc[:,8]"
   ]
  },
  {
   "cell_type": "code",
   "execution_count": 10,
   "id": "69eaa674",
   "metadata": {},
   "outputs": [
    {
     "data": {
      "text/html": [
       "<div>\n",
       "<style scoped>\n",
       "    .dataframe tbody tr th:only-of-type {\n",
       "        vertical-align: middle;\n",
       "    }\n",
       "\n",
       "    .dataframe tbody tr th {\n",
       "        vertical-align: top;\n",
       "    }\n",
       "\n",
       "    .dataframe thead th {\n",
       "        text-align: right;\n",
       "    }\n",
       "</style>\n",
       "<table border=\"1\" class=\"dataframe\">\n",
       "  <thead>\n",
       "    <tr style=\"text-align: right;\">\n",
       "      <th></th>\n",
       "      <th>prevailing_wage</th>\n",
       "    </tr>\n",
       "  </thead>\n",
       "  <tbody>\n",
       "    <tr>\n",
       "      <th>0</th>\n",
       "      <td>592.2029</td>\n",
       "    </tr>\n",
       "    <tr>\n",
       "      <th>1</th>\n",
       "      <td>83425.6500</td>\n",
       "    </tr>\n",
       "    <tr>\n",
       "      <th>2</th>\n",
       "      <td>122996.8600</td>\n",
       "    </tr>\n",
       "    <tr>\n",
       "      <th>3</th>\n",
       "      <td>83434.0300</td>\n",
       "    </tr>\n",
       "    <tr>\n",
       "      <th>4</th>\n",
       "      <td>149907.3900</td>\n",
       "    </tr>\n",
       "    <tr>\n",
       "      <th>...</th>\n",
       "      <td>...</td>\n",
       "    </tr>\n",
       "    <tr>\n",
       "      <th>25475</th>\n",
       "      <td>77092.5700</td>\n",
       "    </tr>\n",
       "    <tr>\n",
       "      <th>25476</th>\n",
       "      <td>279174.7900</td>\n",
       "    </tr>\n",
       "    <tr>\n",
       "      <th>25477</th>\n",
       "      <td>146298.8500</td>\n",
       "    </tr>\n",
       "    <tr>\n",
       "      <th>25478</th>\n",
       "      <td>86154.7700</td>\n",
       "    </tr>\n",
       "    <tr>\n",
       "      <th>25479</th>\n",
       "      <td>70876.9100</td>\n",
       "    </tr>\n",
       "  </tbody>\n",
       "</table>\n",
       "<p>25480 rows × 1 columns</p>\n",
       "</div>"
      ],
      "text/plain": [
       "       prevailing_wage\n",
       "0             592.2029\n",
       "1           83425.6500\n",
       "2          122996.8600\n",
       "3           83434.0300\n",
       "4          149907.3900\n",
       "...                ...\n",
       "25475       77092.5700\n",
       "25476      279174.7900\n",
       "25477      146298.8500\n",
       "25478       86154.7700\n",
       "25479       70876.9100\n",
       "\n",
       "[25480 rows x 1 columns]"
      ]
     },
     "execution_count": 10,
     "metadata": {},
     "output_type": "execute_result"
    }
   ],
   "source": [
    "visa_df.iloc[:,[8]]"
   ]
  },
  {
   "cell_type": "code",
   "execution_count": 11,
   "id": "9c97a365",
   "metadata": {},
   "outputs": [
    {
     "data": {
      "text/plain": [
       "0           592.2029\n",
       "1         83425.6500\n",
       "2        122996.8600\n",
       "3         83434.0300\n",
       "4        149907.3900\n",
       "            ...     \n",
       "25475     77092.5700\n",
       "25476    279174.7900\n",
       "25477    146298.8500\n",
       "25478     86154.7700\n",
       "25479     70876.9100\n",
       "Name: prevailing_wage, Length: 25480, dtype: float64"
      ]
     },
     "execution_count": 11,
     "metadata": {},
     "output_type": "execute_result"
    }
   ],
   "source": [
    "visa_df['prevailing_wage']"
   ]
  },
  {
   "cell_type": "code",
   "execution_count": 12,
   "id": "8fbabffe",
   "metadata": {},
   "outputs": [
    {
     "data": {
      "text/html": [
       "<div>\n",
       "<style scoped>\n",
       "    .dataframe tbody tr th:only-of-type {\n",
       "        vertical-align: middle;\n",
       "    }\n",
       "\n",
       "    .dataframe tbody tr th {\n",
       "        vertical-align: top;\n",
       "    }\n",
       "\n",
       "    .dataframe thead th {\n",
       "        text-align: right;\n",
       "    }\n",
       "</style>\n",
       "<table border=\"1\" class=\"dataframe\">\n",
       "  <thead>\n",
       "    <tr style=\"text-align: right;\">\n",
       "      <th></th>\n",
       "      <th>prevailing_wage</th>\n",
       "    </tr>\n",
       "  </thead>\n",
       "  <tbody>\n",
       "    <tr>\n",
       "      <th>0</th>\n",
       "      <td>592.2029</td>\n",
       "    </tr>\n",
       "    <tr>\n",
       "      <th>1</th>\n",
       "      <td>83425.6500</td>\n",
       "    </tr>\n",
       "    <tr>\n",
       "      <th>2</th>\n",
       "      <td>122996.8600</td>\n",
       "    </tr>\n",
       "    <tr>\n",
       "      <th>3</th>\n",
       "      <td>83434.0300</td>\n",
       "    </tr>\n",
       "    <tr>\n",
       "      <th>4</th>\n",
       "      <td>149907.3900</td>\n",
       "    </tr>\n",
       "    <tr>\n",
       "      <th>...</th>\n",
       "      <td>...</td>\n",
       "    </tr>\n",
       "    <tr>\n",
       "      <th>25475</th>\n",
       "      <td>77092.5700</td>\n",
       "    </tr>\n",
       "    <tr>\n",
       "      <th>25476</th>\n",
       "      <td>279174.7900</td>\n",
       "    </tr>\n",
       "    <tr>\n",
       "      <th>25477</th>\n",
       "      <td>146298.8500</td>\n",
       "    </tr>\n",
       "    <tr>\n",
       "      <th>25478</th>\n",
       "      <td>86154.7700</td>\n",
       "    </tr>\n",
       "    <tr>\n",
       "      <th>25479</th>\n",
       "      <td>70876.9100</td>\n",
       "    </tr>\n",
       "  </tbody>\n",
       "</table>\n",
       "<p>25480 rows × 1 columns</p>\n",
       "</div>"
      ],
      "text/plain": [
       "       prevailing_wage\n",
       "0             592.2029\n",
       "1           83425.6500\n",
       "2          122996.8600\n",
       "3           83434.0300\n",
       "4          149907.3900\n",
       "...                ...\n",
       "25475       77092.5700\n",
       "25476      279174.7900\n",
       "25477      146298.8500\n",
       "25478       86154.7700\n",
       "25479       70876.9100\n",
       "\n",
       "[25480 rows x 1 columns]"
      ]
     },
     "execution_count": 12,
     "metadata": {},
     "output_type": "execute_result"
    }
   ],
   "source": [
    "visa_df[['prevailing_wage']]"
   ]
  },
  {
   "cell_type": "markdown",
   "id": "5553a70c",
   "metadata": {},
   "source": [
    "- len\n",
    "- min\n",
    "- max\n",
    "- average/mean\n",
    "- standard deviation / std\n",
    "- median\n",
    "- zip\n",
    "- 25p\n",
    "- 50p\n",
    "- 75p"
   ]
  },
  {
   "cell_type": "markdown",
   "id": "7040edc5",
   "metadata": {},
   "source": [
    "**len**"
   ]
  },
  {
   "cell_type": "code",
   "execution_count": 17,
   "id": "141b98c5",
   "metadata": {},
   "outputs": [
    {
     "data": {
      "text/plain": [
       "25480"
      ]
     },
     "execution_count": 17,
     "metadata": {},
     "output_type": "execute_result"
    }
   ],
   "source": [
    "len(visa_df['prevailing_wage'])"
   ]
  },
  {
   "cell_type": "code",
   "execution_count": 18,
   "id": "b047a54c",
   "metadata": {},
   "outputs": [
    {
     "data": {
      "text/html": [
       "<div>\n",
       "<style scoped>\n",
       "    .dataframe tbody tr th:only-of-type {\n",
       "        vertical-align: middle;\n",
       "    }\n",
       "\n",
       "    .dataframe tbody tr th {\n",
       "        vertical-align: top;\n",
       "    }\n",
       "\n",
       "    .dataframe thead th {\n",
       "        text-align: right;\n",
       "    }\n",
       "</style>\n",
       "<table border=\"1\" class=\"dataframe\">\n",
       "  <thead>\n",
       "    <tr style=\"text-align: right;\">\n",
       "      <th></th>\n",
       "      <th>education_of_employee</th>\n",
       "      <th>has_job_experience</th>\n",
       "      <th>requires_job_training</th>\n",
       "    </tr>\n",
       "  </thead>\n",
       "  <tbody>\n",
       "    <tr>\n",
       "      <th>3</th>\n",
       "      <td>Bachelor's</td>\n",
       "      <td>N</td>\n",
       "      <td>N</td>\n",
       "    </tr>\n",
       "    <tr>\n",
       "      <th>4</th>\n",
       "      <td>Master's</td>\n",
       "      <td>Y</td>\n",
       "      <td>N</td>\n",
       "    </tr>\n",
       "    <tr>\n",
       "      <th>5</th>\n",
       "      <td>Master's</td>\n",
       "      <td>Y</td>\n",
       "      <td>N</td>\n",
       "    </tr>\n",
       "    <tr>\n",
       "      <th>6</th>\n",
       "      <td>Bachelor's</td>\n",
       "      <td>N</td>\n",
       "      <td>N</td>\n",
       "    </tr>\n",
       "  </tbody>\n",
       "</table>\n",
       "</div>"
      ],
      "text/plain": [
       "  education_of_employee has_job_experience requires_job_training\n",
       "3            Bachelor's                  N                     N\n",
       "4              Master's                  Y                     N\n",
       "5              Master's                  Y                     N\n",
       "6            Bachelor's                  N                     N"
      ]
     },
     "execution_count": 18,
     "metadata": {},
     "output_type": "execute_result"
    }
   ],
   "source": [
    "#visa_df.iloc[rows,columns]\n",
    "#start:stop:step\n",
    "        \n",
    "visa_df.iloc[3:7,2:5]\n",
    "\n",
    "# row 3 4 5 6\n",
    "# col 2 3 4"
   ]
  },
  {
   "cell_type": "markdown",
   "id": "198b452c",
   "metadata": {},
   "source": [
    "**min**"
   ]
  },
  {
   "cell_type": "code",
   "execution_count": 19,
   "id": "56d6f368",
   "metadata": {},
   "outputs": [
    {
     "data": {
      "text/plain": [
       "2.1367"
      ]
     },
     "execution_count": 19,
     "metadata": {},
     "output_type": "execute_result"
    }
   ],
   "source": [
    "min(visa_df['prevailing_wage'])"
   ]
  },
  {
   "cell_type": "markdown",
   "id": "6dc4352c",
   "metadata": {},
   "source": [
    "**max**"
   ]
  },
  {
   "cell_type": "code",
   "execution_count": 20,
   "id": "256ef83a",
   "metadata": {},
   "outputs": [
    {
     "data": {
      "text/plain": [
       "319210.27"
      ]
     },
     "execution_count": 20,
     "metadata": {},
     "output_type": "execute_result"
    }
   ],
   "source": [
    "max(visa_df['prevailing_wage'])"
   ]
  },
  {
   "cell_type": "code",
   "execution_count": 21,
   "id": "ab744d46",
   "metadata": {},
   "outputs": [
    {
     "name": "stdout",
     "output_type": "stream",
     "text": [
      "The number of wage samples are: 25480\n",
      "The minimum wage is: 2.1367\n",
      "The maximum wage is: 319210.27\n"
     ]
    }
   ],
   "source": [
    "## All together\n",
    "\n",
    "count = len(visa_df['prevailing_wage'])\n",
    "min_wage = min(visa_df['prevailing_wage'])\n",
    "max_wage = max(visa_df['prevailing_wage'])\n",
    "\n",
    "print(f'The number of wage samples are: {count}')\n",
    "print(f'The minimum wage is: {min_wage}')\n",
    "print(f'The maximum wage is: {max_wage}')\n"
   ]
  },
  {
   "cell_type": "markdown",
   "id": "2e9e9b53",
   "metadata": {},
   "source": [
    "**mean**"
   ]
  },
  {
   "cell_type": "code",
   "execution_count": 24,
   "id": "be482497",
   "metadata": {},
   "outputs": [
    {
     "data": {
      "text/plain": [
       "74455.81459209183"
      ]
     },
     "execution_count": 24,
     "metadata": {},
     "output_type": "execute_result"
    }
   ],
   "source": [
    "visa_df['prevailing_wage'].mean()"
   ]
  },
  {
   "cell_type": "markdown",
   "id": "365adf7b",
   "metadata": {},
   "source": [
    "**median**"
   ]
  },
  {
   "cell_type": "code",
   "execution_count": 25,
   "id": "7bbae4d6",
   "metadata": {},
   "outputs": [
    {
     "data": {
      "text/plain": [
       "70308.20999999999"
      ]
     },
     "execution_count": 25,
     "metadata": {},
     "output_type": "execute_result"
    }
   ],
   "source": [
    "visa_df['prevailing_wage'].median()"
   ]
  },
  {
   "cell_type": "code",
   "execution_count": 26,
   "id": "8898a1d4",
   "metadata": {},
   "outputs": [
    {
     "name": "stdout",
     "output_type": "stream",
     "text": [
      "The average wage is: 74455.81\n",
      "The median wage is: 74455.81\n"
     ]
    }
   ],
   "source": [
    "# ALl together\n",
    "mean_wage = round(visa_df['prevailing_wage'].mean(), 2)\n",
    "median_wage = round(visa_df['prevailing_wage'].mean(), 2)\n",
    "print(f\"The average wage is: {mean_wage}\")\n",
    "print(f\"The median wage is: {median_wage}\")"
   ]
  },
  {
   "cell_type": "markdown",
   "id": "ea96ec02",
   "metadata": {},
   "source": [
    "**using numpy**"
   ]
  },
  {
   "cell_type": "code",
   "execution_count": 28,
   "id": "90edb9cd",
   "metadata": {},
   "outputs": [
    {
     "data": {
      "text/plain": [
       "74455.81459209183"
      ]
     },
     "execution_count": 28,
     "metadata": {},
     "output_type": "execute_result"
    }
   ],
   "source": [
    "np.mean(visa_df['prevailing_wage'])"
   ]
  },
  {
   "cell_type": "code",
   "execution_count": 29,
   "id": "2b540543",
   "metadata": {},
   "outputs": [
    {
     "data": {
      "text/plain": [
       "70308.20999999999"
      ]
     },
     "execution_count": 29,
     "metadata": {},
     "output_type": "execute_result"
    }
   ],
   "source": [
    "np.median(visa_df['prevailing_wage'])"
   ]
  },
  {
   "cell_type": "markdown",
   "id": "87b9994d",
   "metadata": {},
   "source": [
    "**std**"
   ]
  },
  {
   "cell_type": "code",
   "execution_count": 31,
   "id": "9ddd2295",
   "metadata": {},
   "outputs": [
    {
     "data": {
      "text/plain": [
       "52815.94"
      ]
     },
     "execution_count": 31,
     "metadata": {},
     "output_type": "execute_result"
    }
   ],
   "source": [
    "std_wage=round(visa_df['prevailing_wage'].std(),2)\n",
    "std_wage"
   ]
  },
  {
   "cell_type": "code",
   "execution_count": 33,
   "id": "8dd8dbb8",
   "metadata": {},
   "outputs": [],
   "source": [
    "# All together\n",
    "count_wage = len(visa_df['prevailing_wage'])\n",
    "min_wage = min(visa_df['prevailing_wage'])\n",
    "max_wage = max(visa_df['prevailing_wage'])\n",
    "mean_wage = round(visa_df['prevailing_wage'].mean(), 2)\n",
    "median_wage = round(visa_df['prevailing_wage'].mean(), 2)\n",
    "std_wage=round(visa_df['prevailing_wage'].std(),2)"
   ]
  },
  {
   "cell_type": "code",
   "execution_count": 39,
   "id": "50d29c9b",
   "metadata": {},
   "outputs": [
    {
     "data": {
      "text/html": [
       "<div>\n",
       "<style scoped>\n",
       "    .dataframe tbody tr th:only-of-type {\n",
       "        vertical-align: middle;\n",
       "    }\n",
       "\n",
       "    .dataframe tbody tr th {\n",
       "        vertical-align: top;\n",
       "    }\n",
       "\n",
       "    .dataframe thead th {\n",
       "        text-align: right;\n",
       "    }\n",
       "</style>\n",
       "<table border=\"1\" class=\"dataframe\">\n",
       "  <thead>\n",
       "    <tr style=\"text-align: right;\">\n",
       "      <th></th>\n",
       "      <th>Prevailing_Wage</th>\n",
       "    </tr>\n",
       "  </thead>\n",
       "  <tbody>\n",
       "    <tr>\n",
       "      <th>Count_Wage</th>\n",
       "      <td>25480.0000</td>\n",
       "    </tr>\n",
       "    <tr>\n",
       "      <th>Min_Wage</th>\n",
       "      <td>2.1367</td>\n",
       "    </tr>\n",
       "    <tr>\n",
       "      <th>Max_Wage</th>\n",
       "      <td>319210.2700</td>\n",
       "    </tr>\n",
       "    <tr>\n",
       "      <th>Mean_Wage</th>\n",
       "      <td>74455.8100</td>\n",
       "    </tr>\n",
       "    <tr>\n",
       "      <th>Median_Wage</th>\n",
       "      <td>74455.8100</td>\n",
       "    </tr>\n",
       "    <tr>\n",
       "      <th>Std_Wage</th>\n",
       "      <td>52815.9400</td>\n",
       "    </tr>\n",
       "  </tbody>\n",
       "</table>\n",
       "</div>"
      ],
      "text/plain": [
       "             Prevailing_Wage\n",
       "Count_Wage        25480.0000\n",
       "Min_Wage              2.1367\n",
       "Max_Wage         319210.2700\n",
       "Mean_Wage         74455.8100\n",
       "Median_Wage       74455.8100\n",
       "Std_Wage          52815.9400"
      ]
     },
     "execution_count": 39,
     "metadata": {},
     "output_type": "execute_result"
    }
   ],
   "source": [
    "df = pd.DataFrame([count_wage,min_wage,max_wage,mean_wage,median_wage,std_wage],\n",
    "                      index=['Count_Wage', 'Min_Wage', 'Max_Wage', 'Mean_Wage', 'Median_Wage', 'Std_Wage'], \n",
    "                      columns=['Prevailing_Wage'])\n",
    "df"
   ]
  },
  {
   "cell_type": "code",
   "execution_count": 40,
   "id": "065cb8e0",
   "metadata": {},
   "outputs": [
    {
     "data": {
      "text/html": [
       "<div>\n",
       "<style scoped>\n",
       "    .dataframe tbody tr th:only-of-type {\n",
       "        vertical-align: middle;\n",
       "    }\n",
       "\n",
       "    .dataframe tbody tr th {\n",
       "        vertical-align: top;\n",
       "    }\n",
       "\n",
       "    .dataframe thead th {\n",
       "        text-align: right;\n",
       "    }\n",
       "</style>\n",
       "<table border=\"1\" class=\"dataframe\">\n",
       "  <thead>\n",
       "    <tr style=\"text-align: right;\">\n",
       "      <th></th>\n",
       "      <th>Prevailing_Wage</th>\n",
       "    </tr>\n",
       "  </thead>\n",
       "  <tbody>\n",
       "    <tr>\n",
       "      <th>count</th>\n",
       "      <td>6.000000</td>\n",
       "    </tr>\n",
       "    <tr>\n",
       "      <th>mean</th>\n",
       "      <td>91069.994450</td>\n",
       "    </tr>\n",
       "    <tr>\n",
       "      <th>std</th>\n",
       "      <td>115463.260258</td>\n",
       "    </tr>\n",
       "    <tr>\n",
       "      <th>min</th>\n",
       "      <td>2.136700</td>\n",
       "    </tr>\n",
       "    <tr>\n",
       "      <th>25%</th>\n",
       "      <td>32313.985000</td>\n",
       "    </tr>\n",
       "    <tr>\n",
       "      <th>50%</th>\n",
       "      <td>63635.875000</td>\n",
       "    </tr>\n",
       "    <tr>\n",
       "      <th>75%</th>\n",
       "      <td>74455.810000</td>\n",
       "    </tr>\n",
       "    <tr>\n",
       "      <th>max</th>\n",
       "      <td>319210.270000</td>\n",
       "    </tr>\n",
       "  </tbody>\n",
       "</table>\n",
       "</div>"
      ],
      "text/plain": [
       "       Prevailing_Wage\n",
       "count         6.000000\n",
       "mean      91069.994450\n",
       "std      115463.260258\n",
       "min           2.136700\n",
       "25%       32313.985000\n",
       "50%       63635.875000\n",
       "75%       74455.810000\n",
       "max      319210.270000"
      ]
     },
     "execution_count": 40,
     "metadata": {},
     "output_type": "execute_result"
    }
   ],
   "source": [
    "df.describe()"
   ]
  },
  {
   "cell_type": "markdown",
   "id": "da286ab0",
   "metadata": {},
   "source": [
    "**25p-50p-75p**"
   ]
  },
  {
   "cell_type": "markdown",
   "id": "e51b4757",
   "metadata": {},
   "source": [
    "**percentile**\n",
    "\n",
    "- In numpy we have percentile\n",
    "- the method is np.percentile()\n",
    "    - It takes the two arguments\n",
    "    - a: array means data\n",
    "    - q: quantile value / which percentile data we want, that value we need to provide\n",
    "    - If we want 25P value then q=25\n",
    "    \n",
    "**quantile**\n",
    "\n",
    "- In numpy we have quantile method\n",
    "- the method is np.quantile()\n",
    "    - It takes the two arguments\n",
    "    - a: array means data\n",
    "    - q: quantile value / which percentile data we want, that value we need to provide probability value between 0 to 1\n",
    "    - If we want 25P value then q=0.25"
   ]
  },
  {
   "cell_type": "code",
   "execution_count": 46,
   "id": "87cc8dc8",
   "metadata": {},
   "outputs": [
    {
     "data": {
      "text/plain": [
       "34015.479999999996"
      ]
     },
     "execution_count": 46,
     "metadata": {},
     "output_type": "execute_result"
    }
   ],
   "source": [
    "np.percentile(visa_df['prevailing_wage'],25) "
   ]
  },
  {
   "cell_type": "code",
   "execution_count": 47,
   "id": "3613d005",
   "metadata": {},
   "outputs": [
    {
     "data": {
      "text/plain": [
       "34015.479999999996"
      ]
     },
     "execution_count": 47,
     "metadata": {},
     "output_type": "execute_result"
    }
   ],
   "source": [
    "np.quantile(visa_df['prevailing_wage'],0.25) "
   ]
  },
  {
   "cell_type": "code",
   "execution_count": 51,
   "id": "7cc87ce8",
   "metadata": {},
   "outputs": [
    {
     "name": "stdout",
     "output_type": "stream",
     "text": [
      "25p value is: 34015.48\n",
      "50p value is: 70308.21\n",
      "75p value is: 107735.51\n"
     ]
    }
   ],
   "source": [
    "wage_25p = round(np.percentile(visa_df['prevailing_wage'],25),2) \n",
    "wage_50p = round(np.percentile(visa_df['prevailing_wage'],50),2)\n",
    "wage_75p = round(np.percentile(visa_df['prevailing_wage'],75),2)\n",
    "print(f\"25p value is: {wage_25p}\")\n",
    "print(f\"50p value is: {wage_50p}\")\n",
    "print(f\"75p value is: {wage_75p}\")"
   ]
  },
  {
   "cell_type": "code",
   "execution_count": null,
   "id": "d88beb70",
   "metadata": {},
   "outputs": [],
   "source": [
    "# All together\n",
    "count_wage = len(visa_df['prevailing_wage'])\n",
    "min_wage = min(visa_df['prevailing_wage'])\n",
    "max_wage = max(visa_df['prevailing_wage'])\n",
    "mean_wage = round(visa_df['prevailing_wage'].mean(), 2)\n",
    "median_wage = round(visa_df['prevailing_wage'].mean(), 2)\n",
    "std_wage=round(visa_df['prevailing_wage'].std(),2)\n",
    "wage_25p = round(np.percentile(visa_df['prevailing_wage'],25),2) \n",
    "wage_50p = round(np.percentile(visa_df['prevailing_wage'],50),2)\n",
    "wage_75p = round(np.percentile(visa_df['prevailing_wage'],75),2)"
   ]
  },
  {
   "cell_type": "code",
   "execution_count": 52,
   "id": "21f4ab31",
   "metadata": {},
   "outputs": [
    {
     "data": {
      "text/html": [
       "<div>\n",
       "<style scoped>\n",
       "    .dataframe tbody tr th:only-of-type {\n",
       "        vertical-align: middle;\n",
       "    }\n",
       "\n",
       "    .dataframe tbody tr th {\n",
       "        vertical-align: top;\n",
       "    }\n",
       "\n",
       "    .dataframe thead th {\n",
       "        text-align: right;\n",
       "    }\n",
       "</style>\n",
       "<table border=\"1\" class=\"dataframe\">\n",
       "  <thead>\n",
       "    <tr style=\"text-align: right;\">\n",
       "      <th></th>\n",
       "      <th>Prevailing_Wage</th>\n",
       "    </tr>\n",
       "  </thead>\n",
       "  <tbody>\n",
       "    <tr>\n",
       "      <th>Count_Wage</th>\n",
       "      <td>25480.0000</td>\n",
       "    </tr>\n",
       "    <tr>\n",
       "      <th>Min_Wage</th>\n",
       "      <td>2.1367</td>\n",
       "    </tr>\n",
       "    <tr>\n",
       "      <th>Max_Wage</th>\n",
       "      <td>319210.2700</td>\n",
       "    </tr>\n",
       "    <tr>\n",
       "      <th>Mean_Wage</th>\n",
       "      <td>74455.8100</td>\n",
       "    </tr>\n",
       "    <tr>\n",
       "      <th>Median_Wage</th>\n",
       "      <td>74455.8100</td>\n",
       "    </tr>\n",
       "    <tr>\n",
       "      <th>Std_Wage</th>\n",
       "      <td>52815.9400</td>\n",
       "    </tr>\n",
       "    <tr>\n",
       "      <th>Wage_25p</th>\n",
       "      <td>34015.4800</td>\n",
       "    </tr>\n",
       "    <tr>\n",
       "      <th>Wage_50p</th>\n",
       "      <td>70308.2100</td>\n",
       "    </tr>\n",
       "    <tr>\n",
       "      <th>Wage_75p</th>\n",
       "      <td>107735.5100</td>\n",
       "    </tr>\n",
       "  </tbody>\n",
       "</table>\n",
       "</div>"
      ],
      "text/plain": [
       "             Prevailing_Wage\n",
       "Count_Wage        25480.0000\n",
       "Min_Wage              2.1367\n",
       "Max_Wage         319210.2700\n",
       "Mean_Wage         74455.8100\n",
       "Median_Wage       74455.8100\n",
       "Std_Wage          52815.9400\n",
       "Wage_25p          34015.4800\n",
       "Wage_50p          70308.2100\n",
       "Wage_75p         107735.5100"
      ]
     },
     "execution_count": 52,
     "metadata": {},
     "output_type": "execute_result"
    }
   ],
   "source": [
    "df = pd.DataFrame([count_wage,min_wage,max_wage,mean_wage,median_wage,std_wage,wage_25p,wage_50p,wage_75p],\n",
    "        index=['Count_Wage', 'Min_Wage', 'Max_Wage', 'Mean_Wage', 'Median_Wage', 'Std_Wage', 'Wage_25p', 'Wage_50p', 'Wage_75p'], \n",
    "                      columns=['Prevailing_Wage'])\n",
    "df"
   ]
  },
  {
   "cell_type": "code",
   "execution_count": 54,
   "id": "229576a2",
   "metadata": {},
   "outputs": [
    {
     "ename": "TypeError",
     "evalue": "list.append() takes exactly one argument (2 given)",
     "output_type": "error",
     "traceback": [
      "\u001b[1;31m---------------------------------------------------------------------------\u001b[0m",
      "\u001b[1;31mTypeError\u001b[0m                                 Traceback (most recent call last)",
      "Cell \u001b[1;32mIn[54], line 12\u001b[0m\n\u001b[0;32m     10\u001b[0m     p50 \u001b[38;5;241m=\u001b[39m \u001b[38;5;28mround\u001b[39m(np\u001b[38;5;241m.\u001b[39mpercentile(visa_df[i],\u001b[38;5;241m50\u001b[39m),\u001b[38;5;241m2\u001b[39m)\n\u001b[0;32m     11\u001b[0m     p75 \u001b[38;5;241m=\u001b[39m \u001b[38;5;28mround\u001b[39m(np\u001b[38;5;241m.\u001b[39mpercentile(visa_df[i],\u001b[38;5;241m75\u001b[39m),\u001b[38;5;241m2\u001b[39m)\n\u001b[1;32m---> 12\u001b[0m     list1\u001b[38;5;241m.\u001b[39mappend(Count,Min)\n\u001b[0;32m     13\u001b[0m list1\n",
      "\u001b[1;31mTypeError\u001b[0m: list.append() takes exactly one argument (2 given)"
     ]
    }
   ],
   "source": [
    "list1 = []\n",
    "for i in num_columns:\n",
    "    Count = len(visa_df[i])\n",
    "    Min = min(visa_df[i])\n",
    "    Max = max(visa_df[i])\n",
    "    Mean = round(visa_df[i].mean(), 2)\n",
    "    Median = round(visa_df[i].mean(), 2)\n",
    "    Std =round(visa_df[i].std(),2)\n",
    "    p25 = round(np.percentile(visa_df[i],25),2) \n",
    "    p50 = round(np.percentile(visa_df[i],50),2)\n",
    "    p75 = round(np.percentile(visa_df[i],75),2)\n",
    "    \n",
    "    values = [Count,Min,Max,Mean,Median,Std,p25,p50,p75]\n",
    "    index = ['Count','Min','Max','Mean','Median','Std','p25', 'p50', 'p75']\n",
    "    df2=pd.DataFrame(values,index=index, columns=cols)\n",
    "    df1=pd.concat([df1,df2],axis=1)\n",
    "    list1.append(Count,Min)\n",
    "list1"
   ]
  },
  {
   "cell_type": "markdown",
   "id": "24d51e9e",
   "metadata": {},
   "source": [
    "**Percentiles**\n",
    "\n",
    "- 25Pp:\n",
    "    - Assume that 25p value = x\n",
    "    - 25 percentile of data less than value : x\n",
    "- For example prevailing_wage 25p value is : 34015.47\n",
    "- 25 percentage of people having salary less than 34015.47\n",
    "- Total Member : 25480\n",
    "- 25 percentage of 25480 = 6370\n",
    "- which means 6370 people have salary less than 34015.47"
   ]
  },
  {
   "cell_type": "code",
   "execution_count": 55,
   "id": "5c337a9e",
   "metadata": {},
   "outputs": [
    {
     "data": {
      "text/plain": [
       "34015.479999999996"
      ]
     },
     "execution_count": 55,
     "metadata": {},
     "output_type": "execute_result"
    }
   ],
   "source": [
    "np.percentile(visa_df['prevailing_wage'],25)"
   ]
  },
  {
   "cell_type": "code",
   "execution_count": 57,
   "id": "03099faf",
   "metadata": {},
   "outputs": [
    {
     "data": {
      "text/plain": [
       "0         True\n",
       "1        False\n",
       "2        False\n",
       "3        False\n",
       "4        False\n",
       "         ...  \n",
       "25475    False\n",
       "25476    False\n",
       "25477    False\n",
       "25478    False\n",
       "25479    False\n",
       "Name: prevailing_wage, Length: 25480, dtype: bool"
      ]
     },
     "execution_count": 57,
     "metadata": {},
     "output_type": "execute_result"
    }
   ],
   "source": [
    "# Step-1: Read the prevailing wage data\n",
    "# Step-2: Provide the condition\n",
    "#         prevailing wage < percentile value\n",
    "\n",
    "wage_data = visa_df['prevailing_wage']\n",
    "wage_25p=np.percentile(visa_df['prevailing_wage'],25)\n",
    "wage_data<wage_25p"
   ]
  },
  {
   "cell_type": "code",
   "execution_count": 60,
   "id": "143a8cd8",
   "metadata": {},
   "outputs": [
    {
     "data": {
      "text/html": [
       "<div>\n",
       "<style scoped>\n",
       "    .dataframe tbody tr th:only-of-type {\n",
       "        vertical-align: middle;\n",
       "    }\n",
       "\n",
       "    .dataframe tbody tr th {\n",
       "        vertical-align: top;\n",
       "    }\n",
       "\n",
       "    .dataframe thead th {\n",
       "        text-align: right;\n",
       "    }\n",
       "</style>\n",
       "<table border=\"1\" class=\"dataframe\">\n",
       "  <thead>\n",
       "    <tr style=\"text-align: right;\">\n",
       "      <th></th>\n",
       "      <th>case_id</th>\n",
       "      <th>continent</th>\n",
       "      <th>education_of_employee</th>\n",
       "      <th>has_job_experience</th>\n",
       "      <th>requires_job_training</th>\n",
       "      <th>no_of_employees</th>\n",
       "      <th>yr_of_estab</th>\n",
       "      <th>region_of_employment</th>\n",
       "      <th>prevailing_wage</th>\n",
       "      <th>unit_of_wage</th>\n",
       "      <th>full_time_position</th>\n",
       "      <th>case_status</th>\n",
       "    </tr>\n",
       "  </thead>\n",
       "  <tbody>\n",
       "    <tr>\n",
       "      <th>0</th>\n",
       "      <td>EZYV01</td>\n",
       "      <td>Asia</td>\n",
       "      <td>High School</td>\n",
       "      <td>N</td>\n",
       "      <td>N</td>\n",
       "      <td>14513</td>\n",
       "      <td>2007</td>\n",
       "      <td>West</td>\n",
       "      <td>592.2029</td>\n",
       "      <td>Hour</td>\n",
       "      <td>Y</td>\n",
       "      <td>Denied</td>\n",
       "    </tr>\n",
       "    <tr>\n",
       "      <th>7</th>\n",
       "      <td>EZYV08</td>\n",
       "      <td>North America</td>\n",
       "      <td>Bachelor's</td>\n",
       "      <td>Y</td>\n",
       "      <td>N</td>\n",
       "      <td>3035</td>\n",
       "      <td>1924</td>\n",
       "      <td>West</td>\n",
       "      <td>418.2298</td>\n",
       "      <td>Hour</td>\n",
       "      <td>Y</td>\n",
       "      <td>Denied</td>\n",
       "    </tr>\n",
       "    <tr>\n",
       "      <th>12</th>\n",
       "      <td>EZYV13</td>\n",
       "      <td>Asia</td>\n",
       "      <td>Bachelor's</td>\n",
       "      <td>Y</td>\n",
       "      <td>N</td>\n",
       "      <td>123876</td>\n",
       "      <td>1963</td>\n",
       "      <td>Northeast</td>\n",
       "      <td>28663.0500</td>\n",
       "      <td>Year</td>\n",
       "      <td>Y</td>\n",
       "      <td>Certified</td>\n",
       "    </tr>\n",
       "    <tr>\n",
       "      <th>16</th>\n",
       "      <td>EZYV17</td>\n",
       "      <td>Europe</td>\n",
       "      <td>Master's</td>\n",
       "      <td>Y</td>\n",
       "      <td>N</td>\n",
       "      <td>76638</td>\n",
       "      <td>1991</td>\n",
       "      <td>Midwest</td>\n",
       "      <td>3706.7900</td>\n",
       "      <td>Year</td>\n",
       "      <td>Y</td>\n",
       "      <td>Certified</td>\n",
       "    </tr>\n",
       "    <tr>\n",
       "      <th>17</th>\n",
       "      <td>EZYV18</td>\n",
       "      <td>Asia</td>\n",
       "      <td>Master's</td>\n",
       "      <td>Y</td>\n",
       "      <td>N</td>\n",
       "      <td>2747</td>\n",
       "      <td>2001</td>\n",
       "      <td>West</td>\n",
       "      <td>16132.6100</td>\n",
       "      <td>Year</td>\n",
       "      <td>Y</td>\n",
       "      <td>Certified</td>\n",
       "    </tr>\n",
       "    <tr>\n",
       "      <th>...</th>\n",
       "      <td>...</td>\n",
       "      <td>...</td>\n",
       "      <td>...</td>\n",
       "      <td>...</td>\n",
       "      <td>...</td>\n",
       "      <td>...</td>\n",
       "      <td>...</td>\n",
       "      <td>...</td>\n",
       "      <td>...</td>\n",
       "      <td>...</td>\n",
       "      <td>...</td>\n",
       "      <td>...</td>\n",
       "    </tr>\n",
       "    <tr>\n",
       "      <th>25461</th>\n",
       "      <td>EZYV25462</td>\n",
       "      <td>Asia</td>\n",
       "      <td>Master's</td>\n",
       "      <td>Y</td>\n",
       "      <td>N</td>\n",
       "      <td>2861</td>\n",
       "      <td>2004</td>\n",
       "      <td>West</td>\n",
       "      <td>54.9196</td>\n",
       "      <td>Hour</td>\n",
       "      <td>Y</td>\n",
       "      <td>Denied</td>\n",
       "    </tr>\n",
       "    <tr>\n",
       "      <th>25465</th>\n",
       "      <td>EZYV25466</td>\n",
       "      <td>North America</td>\n",
       "      <td>High School</td>\n",
       "      <td>N</td>\n",
       "      <td>N</td>\n",
       "      <td>2577</td>\n",
       "      <td>1995</td>\n",
       "      <td>South</td>\n",
       "      <td>481.2238</td>\n",
       "      <td>Hour</td>\n",
       "      <td>Y</td>\n",
       "      <td>Certified</td>\n",
       "    </tr>\n",
       "    <tr>\n",
       "      <th>25466</th>\n",
       "      <td>EZYV25467</td>\n",
       "      <td>Europe</td>\n",
       "      <td>Bachelor's</td>\n",
       "      <td>Y</td>\n",
       "      <td>N</td>\n",
       "      <td>1938</td>\n",
       "      <td>2005</td>\n",
       "      <td>West</td>\n",
       "      <td>6973.4000</td>\n",
       "      <td>Year</td>\n",
       "      <td>Y</td>\n",
       "      <td>Denied</td>\n",
       "    </tr>\n",
       "    <tr>\n",
       "      <th>25470</th>\n",
       "      <td>EZYV25471</td>\n",
       "      <td>North America</td>\n",
       "      <td>Master's</td>\n",
       "      <td>Y</td>\n",
       "      <td>N</td>\n",
       "      <td>2272</td>\n",
       "      <td>1970</td>\n",
       "      <td>Northeast</td>\n",
       "      <td>516.4101</td>\n",
       "      <td>Hour</td>\n",
       "      <td>Y</td>\n",
       "      <td>Certified</td>\n",
       "    </tr>\n",
       "    <tr>\n",
       "      <th>25473</th>\n",
       "      <td>EZYV25474</td>\n",
       "      <td>Asia</td>\n",
       "      <td>Bachelor's</td>\n",
       "      <td>Y</td>\n",
       "      <td>N</td>\n",
       "      <td>2421</td>\n",
       "      <td>2007</td>\n",
       "      <td>Northeast</td>\n",
       "      <td>22845.5600</td>\n",
       "      <td>Year</td>\n",
       "      <td>Y</td>\n",
       "      <td>Certified</td>\n",
       "    </tr>\n",
       "  </tbody>\n",
       "</table>\n",
       "<p>6370 rows × 12 columns</p>\n",
       "</div>"
      ],
      "text/plain": [
       "         case_id      continent education_of_employee has_job_experience  \\\n",
       "0         EZYV01           Asia           High School                  N   \n",
       "7         EZYV08  North America            Bachelor's                  Y   \n",
       "12        EZYV13           Asia            Bachelor's                  Y   \n",
       "16        EZYV17         Europe              Master's                  Y   \n",
       "17        EZYV18           Asia              Master's                  Y   \n",
       "...          ...            ...                   ...                ...   \n",
       "25461  EZYV25462           Asia              Master's                  Y   \n",
       "25465  EZYV25466  North America           High School                  N   \n",
       "25466  EZYV25467         Europe            Bachelor's                  Y   \n",
       "25470  EZYV25471  North America              Master's                  Y   \n",
       "25473  EZYV25474           Asia            Bachelor's                  Y   \n",
       "\n",
       "      requires_job_training  no_of_employees  yr_of_estab  \\\n",
       "0                         N            14513         2007   \n",
       "7                         N             3035         1924   \n",
       "12                        N           123876         1963   \n",
       "16                        N            76638         1991   \n",
       "17                        N             2747         2001   \n",
       "...                     ...              ...          ...   \n",
       "25461                     N             2861         2004   \n",
       "25465                     N             2577         1995   \n",
       "25466                     N             1938         2005   \n",
       "25470                     N             2272         1970   \n",
       "25473                     N             2421         2007   \n",
       "\n",
       "      region_of_employment  prevailing_wage unit_of_wage full_time_position  \\\n",
       "0                     West         592.2029         Hour                  Y   \n",
       "7                     West         418.2298         Hour                  Y   \n",
       "12               Northeast       28663.0500         Year                  Y   \n",
       "16                 Midwest        3706.7900         Year                  Y   \n",
       "17                    West       16132.6100         Year                  Y   \n",
       "...                    ...              ...          ...                ...   \n",
       "25461                 West          54.9196         Hour                  Y   \n",
       "25465                South         481.2238         Hour                  Y   \n",
       "25466                 West        6973.4000         Year                  Y   \n",
       "25470            Northeast         516.4101         Hour                  Y   \n",
       "25473            Northeast       22845.5600         Year                  Y   \n",
       "\n",
       "      case_status  \n",
       "0          Denied  \n",
       "7          Denied  \n",
       "12      Certified  \n",
       "16      Certified  \n",
       "17      Certified  \n",
       "...           ...  \n",
       "25461      Denied  \n",
       "25465   Certified  \n",
       "25466      Denied  \n",
       "25470   Certified  \n",
       "25473   Certified  \n",
       "\n",
       "[6370 rows x 12 columns]"
      ]
     },
     "execution_count": 60,
     "metadata": {},
     "output_type": "execute_result"
    }
   ],
   "source": [
    "visa_df[wage_data<wage_25p]"
   ]
  },
  {
   "cell_type": "code",
   "execution_count": null,
   "id": "3b8b4206",
   "metadata": {},
   "outputs": [],
   "source": [
    "# The total number or records are 6370 which is equal to 25 percentage of 25480"
   ]
  },
  {
   "cell_type": "code",
   "execution_count": 63,
   "id": "13a1152c",
   "metadata": {},
   "outputs": [
    {
     "name": "stdout",
     "output_type": "stream",
     "text": [
      "70308.20999999999\n"
     ]
    },
    {
     "data": {
      "text/plain": [
       "12740"
      ]
     },
     "execution_count": 63,
     "metadata": {},
     "output_type": "execute_result"
    }
   ],
   "source": [
    "#50P = 25480 / 2 = 12740\n",
    "print(np.percentile(visa_df['prevailing_wage'],50))\n",
    "wage_data = visa_df['prevailing_wage']\n",
    "wage_50p=np.percentile(visa_df['prevailing_wage'],50)\n",
    "wage_data<wage_50p\n",
    "len(visa_df[wage_data<wage_50p])"
   ]
  },
  {
   "cell_type": "code",
   "execution_count": 64,
   "id": "68d23797",
   "metadata": {},
   "outputs": [
    {
     "name": "stdout",
     "output_type": "stream",
     "text": [
      "107735.51250000001\n"
     ]
    },
    {
     "data": {
      "text/plain": [
       "19110"
      ]
     },
     "execution_count": 64,
     "metadata": {},
     "output_type": "execute_result"
    }
   ],
   "source": [
    "#75P = 6370 X 3 = 19110\n",
    "print(np.percentile(visa_df['prevailing_wage'],75))\n",
    "wage_data = visa_df['prevailing_wage']\n",
    "wage_75p=np.percentile(visa_df['prevailing_wage'],75)\n",
    "wage_data<wage_75p\n",
    "len(visa_df[wage_data<wage_75p])"
   ]
  },
  {
   "cell_type": "markdown",
   "id": "2e92107f",
   "metadata": {},
   "source": [
    "**Empirical Rule**"
   ]
  },
  {
   "cell_type": "markdown",
   "id": "5247131a",
   "metadata": {},
   "source": [
    "<img src=\"https://builtin.com/sites/www.builtin.com/files/styles/ckeditor_optimize/public/inline-images/1_empirical-rule.jpg\" jsaction=\"\" class=\"sFlh5c pT0Scc iPVvYb\" style=\"max-width: 810px; height: 279px; margin: 0px; width: 557px;\" alt=\"Empirical Rule (68-95-99.7) Explained | Built In\" jsname=\"kn3ccd\" aria-hidden=\"false\">"
   ]
  },
  {
   "cell_type": "markdown",
   "id": "0856f1a3",
   "metadata": {},
   "source": [
    "mean-1*std to mean+1*std : 68%\n",
    "\n",
    "mean-2*std to mean+2*std : 95%\n",
    "\n",
    "mean-3*std to mean+3*std : 99.7%    "
   ]
  },
  {
   "cell_type": "code",
   "execution_count": null,
   "id": "69b07842",
   "metadata": {},
   "outputs": [],
   "source": [
    "# Step-1: Calcualte the mean of pervailing wage\n",
    "# Step-2: Calculate the std of prevailing wage\n",
    "# Step-3: lower bound = mean-1*std\n",
    "# Step-4: upper bound = mean+1*std\n",
    "# Step-5: Condiion1: data < upper bound\n",
    "# Step-6: Condiion1: data > lower bound\n",
    "# Step-7: Condiion1: Condition1 and Condition2\n",
    "# Step-8: data[Condiion3]\n",
    "# Step-9: Compare with 68% of 25480 count"
   ]
  },
  {
   "cell_type": "code",
   "execution_count": 71,
   "id": "9ec94fbc",
   "metadata": {},
   "outputs": [],
   "source": [
    "wage_data = visa_df['prevailing_wage']"
   ]
  },
  {
   "cell_type": "code",
   "execution_count": 67,
   "id": "ef6c4091",
   "metadata": {},
   "outputs": [
    {
     "data": {
      "text/plain": [
       "74455.81459209183"
      ]
     },
     "execution_count": 67,
     "metadata": {},
     "output_type": "execute_result"
    }
   ],
   "source": [
    "mean = visa_df['prevailing_wage'].mean()\n",
    "mean"
   ]
  },
  {
   "cell_type": "code",
   "execution_count": 68,
   "id": "367479ff",
   "metadata": {},
   "outputs": [
    {
     "data": {
      "text/plain": [
       "52815.94232687357"
      ]
     },
     "execution_count": 68,
     "metadata": {},
     "output_type": "execute_result"
    }
   ],
   "source": [
    "std = visa_df['prevailing_wage'].std()\n",
    "std"
   ]
  },
  {
   "cell_type": "code",
   "execution_count": 69,
   "id": "c2764107",
   "metadata": {},
   "outputs": [
    {
     "data": {
      "text/plain": [
       "21639.872265218262"
      ]
     },
     "execution_count": 69,
     "metadata": {},
     "output_type": "execute_result"
    }
   ],
   "source": [
    "lb = mean-1*std\n",
    "lb"
   ]
  },
  {
   "cell_type": "code",
   "execution_count": 70,
   "id": "7cbd024f",
   "metadata": {},
   "outputs": [
    {
     "data": {
      "text/plain": [
       "127271.7569189654"
      ]
     },
     "execution_count": 70,
     "metadata": {},
     "output_type": "execute_result"
    }
   ],
   "source": [
    "ub = mean+1*std\n",
    "ub"
   ]
  },
  {
   "cell_type": "code",
   "execution_count": 82,
   "id": "59fb61c6",
   "metadata": {},
   "outputs": [
    {
     "data": {
      "text/plain": [
       "0         True\n",
       "1         True\n",
       "2         True\n",
       "3         True\n",
       "4        False\n",
       "         ...  \n",
       "25475     True\n",
       "25476    False\n",
       "25477    False\n",
       "25478     True\n",
       "25479     True\n",
       "Name: prevailing_wage, Length: 25480, dtype: bool"
      ]
     },
     "execution_count": 82,
     "metadata": {},
     "output_type": "execute_result"
    }
   ],
   "source": [
    "cond1 = wage_data<ub\n",
    "cond1"
   ]
  },
  {
   "cell_type": "code",
   "execution_count": 83,
   "id": "d5b5a79f",
   "metadata": {},
   "outputs": [
    {
     "data": {
      "text/plain": [
       "0        False\n",
       "1         True\n",
       "2         True\n",
       "3         True\n",
       "4         True\n",
       "         ...  \n",
       "25475     True\n",
       "25476     True\n",
       "25477     True\n",
       "25478     True\n",
       "25479     True\n",
       "Name: prevailing_wage, Length: 25480, dtype: bool"
      ]
     },
     "execution_count": 83,
     "metadata": {},
     "output_type": "execute_result"
    }
   ],
   "source": [
    "cond2 = wage_data>lb\n",
    "cond2"
   ]
  },
  {
   "cell_type": "code",
   "execution_count": 84,
   "id": "5d76e787",
   "metadata": {},
   "outputs": [
    {
     "data": {
      "text/html": [
       "<div>\n",
       "<style scoped>\n",
       "    .dataframe tbody tr th:only-of-type {\n",
       "        vertical-align: middle;\n",
       "    }\n",
       "\n",
       "    .dataframe tbody tr th {\n",
       "        vertical-align: top;\n",
       "    }\n",
       "\n",
       "    .dataframe thead th {\n",
       "        text-align: right;\n",
       "    }\n",
       "</style>\n",
       "<table border=\"1\" class=\"dataframe\">\n",
       "  <thead>\n",
       "    <tr style=\"text-align: right;\">\n",
       "      <th></th>\n",
       "      <th>case_id</th>\n",
       "      <th>continent</th>\n",
       "      <th>education_of_employee</th>\n",
       "      <th>has_job_experience</th>\n",
       "      <th>requires_job_training</th>\n",
       "      <th>no_of_employees</th>\n",
       "      <th>yr_of_estab</th>\n",
       "      <th>region_of_employment</th>\n",
       "      <th>prevailing_wage</th>\n",
       "      <th>unit_of_wage</th>\n",
       "      <th>full_time_position</th>\n",
       "      <th>case_status</th>\n",
       "    </tr>\n",
       "  </thead>\n",
       "  <tbody>\n",
       "    <tr>\n",
       "      <th>1</th>\n",
       "      <td>EZYV02</td>\n",
       "      <td>Asia</td>\n",
       "      <td>Master's</td>\n",
       "      <td>Y</td>\n",
       "      <td>N</td>\n",
       "      <td>2412</td>\n",
       "      <td>2002</td>\n",
       "      <td>Northeast</td>\n",
       "      <td>83425.65</td>\n",
       "      <td>Year</td>\n",
       "      <td>Y</td>\n",
       "      <td>Certified</td>\n",
       "    </tr>\n",
       "    <tr>\n",
       "      <th>2</th>\n",
       "      <td>EZYV03</td>\n",
       "      <td>Asia</td>\n",
       "      <td>Bachelor's</td>\n",
       "      <td>N</td>\n",
       "      <td>Y</td>\n",
       "      <td>44444</td>\n",
       "      <td>2008</td>\n",
       "      <td>West</td>\n",
       "      <td>122996.86</td>\n",
       "      <td>Year</td>\n",
       "      <td>Y</td>\n",
       "      <td>Denied</td>\n",
       "    </tr>\n",
       "    <tr>\n",
       "      <th>3</th>\n",
       "      <td>EZYV04</td>\n",
       "      <td>Asia</td>\n",
       "      <td>Bachelor's</td>\n",
       "      <td>N</td>\n",
       "      <td>N</td>\n",
       "      <td>98</td>\n",
       "      <td>1897</td>\n",
       "      <td>West</td>\n",
       "      <td>83434.03</td>\n",
       "      <td>Year</td>\n",
       "      <td>Y</td>\n",
       "      <td>Denied</td>\n",
       "    </tr>\n",
       "    <tr>\n",
       "      <th>5</th>\n",
       "      <td>EZYV06</td>\n",
       "      <td>Asia</td>\n",
       "      <td>Master's</td>\n",
       "      <td>Y</td>\n",
       "      <td>N</td>\n",
       "      <td>2339</td>\n",
       "      <td>2012</td>\n",
       "      <td>South</td>\n",
       "      <td>78252.14</td>\n",
       "      <td>Year</td>\n",
       "      <td>Y</td>\n",
       "      <td>Certified</td>\n",
       "    </tr>\n",
       "    <tr>\n",
       "      <th>6</th>\n",
       "      <td>EZYV07</td>\n",
       "      <td>Asia</td>\n",
       "      <td>Bachelor's</td>\n",
       "      <td>N</td>\n",
       "      <td>N</td>\n",
       "      <td>4985</td>\n",
       "      <td>1994</td>\n",
       "      <td>South</td>\n",
       "      <td>53635.39</td>\n",
       "      <td>Year</td>\n",
       "      <td>Y</td>\n",
       "      <td>Certified</td>\n",
       "    </tr>\n",
       "    <tr>\n",
       "      <th>...</th>\n",
       "      <td>...</td>\n",
       "      <td>...</td>\n",
       "      <td>...</td>\n",
       "      <td>...</td>\n",
       "      <td>...</td>\n",
       "      <td>...</td>\n",
       "      <td>...</td>\n",
       "      <td>...</td>\n",
       "      <td>...</td>\n",
       "      <td>...</td>\n",
       "      <td>...</td>\n",
       "      <td>...</td>\n",
       "    </tr>\n",
       "    <tr>\n",
       "      <th>25473</th>\n",
       "      <td>EZYV25474</td>\n",
       "      <td>Asia</td>\n",
       "      <td>Bachelor's</td>\n",
       "      <td>Y</td>\n",
       "      <td>N</td>\n",
       "      <td>2421</td>\n",
       "      <td>2007</td>\n",
       "      <td>Northeast</td>\n",
       "      <td>22845.56</td>\n",
       "      <td>Year</td>\n",
       "      <td>Y</td>\n",
       "      <td>Certified</td>\n",
       "    </tr>\n",
       "    <tr>\n",
       "      <th>25474</th>\n",
       "      <td>EZYV25475</td>\n",
       "      <td>Africa</td>\n",
       "      <td>Doctorate</td>\n",
       "      <td>N</td>\n",
       "      <td>N</td>\n",
       "      <td>2594</td>\n",
       "      <td>1979</td>\n",
       "      <td>Northeast</td>\n",
       "      <td>51104.78</td>\n",
       "      <td>Year</td>\n",
       "      <td>Y</td>\n",
       "      <td>Certified</td>\n",
       "    </tr>\n",
       "    <tr>\n",
       "      <th>25475</th>\n",
       "      <td>EZYV25476</td>\n",
       "      <td>Asia</td>\n",
       "      <td>Bachelor's</td>\n",
       "      <td>Y</td>\n",
       "      <td>Y</td>\n",
       "      <td>2601</td>\n",
       "      <td>2008</td>\n",
       "      <td>South</td>\n",
       "      <td>77092.57</td>\n",
       "      <td>Year</td>\n",
       "      <td>Y</td>\n",
       "      <td>Certified</td>\n",
       "    </tr>\n",
       "    <tr>\n",
       "      <th>25478</th>\n",
       "      <td>EZYV25479</td>\n",
       "      <td>Asia</td>\n",
       "      <td>Master's</td>\n",
       "      <td>Y</td>\n",
       "      <td>Y</td>\n",
       "      <td>1918</td>\n",
       "      <td>1887</td>\n",
       "      <td>West</td>\n",
       "      <td>86154.77</td>\n",
       "      <td>Year</td>\n",
       "      <td>Y</td>\n",
       "      <td>Certified</td>\n",
       "    </tr>\n",
       "    <tr>\n",
       "      <th>25479</th>\n",
       "      <td>EZYV25480</td>\n",
       "      <td>Asia</td>\n",
       "      <td>Bachelor's</td>\n",
       "      <td>Y</td>\n",
       "      <td>N</td>\n",
       "      <td>3195</td>\n",
       "      <td>1960</td>\n",
       "      <td>Midwest</td>\n",
       "      <td>70876.91</td>\n",
       "      <td>Year</td>\n",
       "      <td>Y</td>\n",
       "      <td>Certified</td>\n",
       "    </tr>\n",
       "  </tbody>\n",
       "</table>\n",
       "<p>17171 rows × 12 columns</p>\n",
       "</div>"
      ],
      "text/plain": [
       "         case_id continent education_of_employee has_job_experience  \\\n",
       "1         EZYV02      Asia              Master's                  Y   \n",
       "2         EZYV03      Asia            Bachelor's                  N   \n",
       "3         EZYV04      Asia            Bachelor's                  N   \n",
       "5         EZYV06      Asia              Master's                  Y   \n",
       "6         EZYV07      Asia            Bachelor's                  N   \n",
       "...          ...       ...                   ...                ...   \n",
       "25473  EZYV25474      Asia            Bachelor's                  Y   \n",
       "25474  EZYV25475    Africa             Doctorate                  N   \n",
       "25475  EZYV25476      Asia            Bachelor's                  Y   \n",
       "25478  EZYV25479      Asia              Master's                  Y   \n",
       "25479  EZYV25480      Asia            Bachelor's                  Y   \n",
       "\n",
       "      requires_job_training  no_of_employees  yr_of_estab  \\\n",
       "1                         N             2412         2002   \n",
       "2                         Y            44444         2008   \n",
       "3                         N               98         1897   \n",
       "5                         N             2339         2012   \n",
       "6                         N             4985         1994   \n",
       "...                     ...              ...          ...   \n",
       "25473                     N             2421         2007   \n",
       "25474                     N             2594         1979   \n",
       "25475                     Y             2601         2008   \n",
       "25478                     Y             1918         1887   \n",
       "25479                     N             3195         1960   \n",
       "\n",
       "      region_of_employment  prevailing_wage unit_of_wage full_time_position  \\\n",
       "1                Northeast         83425.65         Year                  Y   \n",
       "2                     West        122996.86         Year                  Y   \n",
       "3                     West         83434.03         Year                  Y   \n",
       "5                    South         78252.14         Year                  Y   \n",
       "6                    South         53635.39         Year                  Y   \n",
       "...                    ...              ...          ...                ...   \n",
       "25473            Northeast         22845.56         Year                  Y   \n",
       "25474            Northeast         51104.78         Year                  Y   \n",
       "25475                South         77092.57         Year                  Y   \n",
       "25478                 West         86154.77         Year                  Y   \n",
       "25479              Midwest         70876.91         Year                  Y   \n",
       "\n",
       "      case_status  \n",
       "1       Certified  \n",
       "2          Denied  \n",
       "3          Denied  \n",
       "5       Certified  \n",
       "6       Certified  \n",
       "...           ...  \n",
       "25473   Certified  \n",
       "25474   Certified  \n",
       "25475   Certified  \n",
       "25478   Certified  \n",
       "25479   Certified  \n",
       "\n",
       "[17171 rows x 12 columns]"
      ]
     },
     "execution_count": 84,
     "metadata": {},
     "output_type": "execute_result"
    }
   ],
   "source": [
    "cond3 = visa_df[cond1 & cond2]\n",
    "cond3"
   ]
  },
  {
   "cell_type": "code",
   "execution_count": 88,
   "id": "08f956b2",
   "metadata": {},
   "outputs": [
    {
     "name": "stdout",
     "output_type": "stream",
     "text": [
      "24582\n",
      "24206.0\n"
     ]
    }
   ],
   "source": [
    "mu=visa_df['prevailing_wage'].mean()\n",
    "sigma=visa_df['prevailing_wage'].std()\n",
    "lb=mu-2*sigma\n",
    "ub=mu+2*sigma\n",
    "cond1=visa_df['prevailing_wage'] < ub\n",
    "cond2=visa_df['prevailing_wage'] > lb\n",
    "cond3=cond1 & cond2\n",
    "print(len(visa_df[cond3]))\n",
    "print(95*len(visa_df)/100)"
   ]
  },
  {
   "cell_type": "markdown",
   "id": "37fa60b7",
   "metadata": {},
   "source": [
    "**Describe**"
   ]
  },
  {
   "cell_type": "code",
   "execution_count": 89,
   "id": "f201eb07",
   "metadata": {},
   "outputs": [
    {
     "data": {
      "text/html": [
       "<div>\n",
       "<style scoped>\n",
       "    .dataframe tbody tr th:only-of-type {\n",
       "        vertical-align: middle;\n",
       "    }\n",
       "\n",
       "    .dataframe tbody tr th {\n",
       "        vertical-align: top;\n",
       "    }\n",
       "\n",
       "    .dataframe thead th {\n",
       "        text-align: right;\n",
       "    }\n",
       "</style>\n",
       "<table border=\"1\" class=\"dataframe\">\n",
       "  <thead>\n",
       "    <tr style=\"text-align: right;\">\n",
       "      <th></th>\n",
       "      <th>no_of_employees</th>\n",
       "      <th>yr_of_estab</th>\n",
       "      <th>prevailing_wage</th>\n",
       "    </tr>\n",
       "  </thead>\n",
       "  <tbody>\n",
       "    <tr>\n",
       "      <th>count</th>\n",
       "      <td>25480.000000</td>\n",
       "      <td>25480.000000</td>\n",
       "      <td>25480.000000</td>\n",
       "    </tr>\n",
       "    <tr>\n",
       "      <th>mean</th>\n",
       "      <td>5667.043210</td>\n",
       "      <td>1979.409929</td>\n",
       "      <td>74455.814592</td>\n",
       "    </tr>\n",
       "    <tr>\n",
       "      <th>std</th>\n",
       "      <td>22877.928848</td>\n",
       "      <td>42.366929</td>\n",
       "      <td>52815.942327</td>\n",
       "    </tr>\n",
       "    <tr>\n",
       "      <th>min</th>\n",
       "      <td>-26.000000</td>\n",
       "      <td>1800.000000</td>\n",
       "      <td>2.136700</td>\n",
       "    </tr>\n",
       "    <tr>\n",
       "      <th>25%</th>\n",
       "      <td>1022.000000</td>\n",
       "      <td>1976.000000</td>\n",
       "      <td>34015.480000</td>\n",
       "    </tr>\n",
       "    <tr>\n",
       "      <th>50%</th>\n",
       "      <td>2109.000000</td>\n",
       "      <td>1997.000000</td>\n",
       "      <td>70308.210000</td>\n",
       "    </tr>\n",
       "    <tr>\n",
       "      <th>75%</th>\n",
       "      <td>3504.000000</td>\n",
       "      <td>2005.000000</td>\n",
       "      <td>107735.512500</td>\n",
       "    </tr>\n",
       "    <tr>\n",
       "      <th>max</th>\n",
       "      <td>602069.000000</td>\n",
       "      <td>2016.000000</td>\n",
       "      <td>319210.270000</td>\n",
       "    </tr>\n",
       "  </tbody>\n",
       "</table>\n",
       "</div>"
      ],
      "text/plain": [
       "       no_of_employees   yr_of_estab  prevailing_wage\n",
       "count     25480.000000  25480.000000     25480.000000\n",
       "mean       5667.043210   1979.409929     74455.814592\n",
       "std       22877.928848     42.366929     52815.942327\n",
       "min         -26.000000   1800.000000         2.136700\n",
       "25%        1022.000000   1976.000000     34015.480000\n",
       "50%        2109.000000   1997.000000     70308.210000\n",
       "75%        3504.000000   2005.000000    107735.512500\n",
       "max      602069.000000   2016.000000    319210.270000"
      ]
     },
     "execution_count": 89,
     "metadata": {},
     "output_type": "execute_result"
    }
   ],
   "source": [
    "visa_df.describe()"
   ]
  },
  {
   "cell_type": "markdown",
   "id": "3b9915f6",
   "metadata": {},
   "source": [
    "**Histogram**\n",
    "\n",
    "- By applying emperical rule we observed slight deviation in the count of data\n",
    "- Also Mean is slightly deviated from Median\n",
    "- This gives an indication that data does not follow Normal Distribution\n",
    "- To understand more clearly will visualize the data\n",
    "- It is Numerical Data, so the plot name is: **Histogram**\n",
    "- Histogram is a graph between Class Intervals and Class Interval Frequency\n",
    "- The plot is available in **matplotlib** package\n",
    "- The method name is **hist**"
   ]
  },
  {
   "cell_type": "code",
   "execution_count": 96,
   "id": "14b7410a",
   "metadata": {},
   "outputs": [
    {
     "data": {
      "text/plain": [
       "(array([3863., 2175., 2676., 2828., 2889., 2792., 2485., 2066., 1452.,\n",
       "         882.,  408.,  216.,  206.,  167.,  129.,  111.,   66.,   48.,\n",
       "          10.,   11.]),\n",
       " array([2.13670000e+00, 1.59625434e+04, 3.19229500e+04, 4.78833567e+04,\n",
       "        6.38437634e+04, 7.98041700e+04, 9.57645767e+04, 1.11724983e+05,\n",
       "        1.27685390e+05, 1.43645797e+05, 1.59606203e+05, 1.75566610e+05,\n",
       "        1.91527017e+05, 2.07487423e+05, 2.23447830e+05, 2.39408237e+05,\n",
       "        2.55368643e+05, 2.71329050e+05, 2.87289457e+05, 3.03249863e+05,\n",
       "        3.19210270e+05]),\n",
       " <BarContainer object of 20 artists>)"
      ]
     },
     "execution_count": 96,
     "metadata": {},
     "output_type": "execute_result"
    },
    {
     "data": {
      "image/png": "[encoded data removed]",
      "text/plain": [
       "<Figure size 640x480 with 1 Axes>"
      ]
     },
     "metadata": {},
     "output_type": "display_data"
    }
   ],
   "source": [
    "plt.hist(visa_df['prevailing_wage'], bins=20)\n",
    "#plt.show()"
   ]
  },
  {
   "cell_type": "markdown",
   "id": "77bcd934",
   "metadata": {},
   "source": [
    "- Histogram will return 3 values\n",
    "    - Interval count array\n",
    "        - We have 20 intervals, so we have 20 interval counts\n",
    "    - bins\n",
    "        - bins means number of intervals\n",
    "        - we have 20 intervals, so we need 21 values\n",
    "    - How many internvals are available\n",
    "    \n",
    "- For example, in the bins array the first two forms one interval\n",
    "- i.e., 2.13670000e+00 to 1.59625434e+04  the count is 3863\n",
    "- 3863 observations are available between 2.136 to 15962.54\n",
    "- Similarly 2175 observations are available between (15962.5434, 31922.95)\n"
   ]
  },
  {
   "cell_type": "code",
   "execution_count": 97,
   "id": "fb820e59",
   "metadata": {},
   "outputs": [
    {
     "data": {
      "text/plain": [
       "15962.5434"
      ]
     },
     "execution_count": 97,
     "metadata": {},
     "output_type": "execute_result"
    }
   ],
   "source": [
    "1.59625434e+04"
   ]
  },
  {
   "cell_type": "code",
   "execution_count": 98,
   "id": "0f9864c7",
   "metadata": {},
   "outputs": [
    {
     "data": {
      "text/plain": [
       "(15962.5434, 31922.95)"
      ]
     },
     "execution_count": 98,
     "metadata": {},
     "output_type": "execute_result"
    }
   ],
   "source": [
    "1.59625434e+04, 3.19229500e+04"
   ]
  },
  {
   "cell_type": "code",
   "execution_count": 102,
   "id": "9a5b5927",
   "metadata": {},
   "outputs": [
    {
     "name": "stdout",
     "output_type": "stream",
     "text": [
      "20\n",
      "21\n",
      "<BarContainer object of 20 artists>\n"
     ]
    },
    {
     "data": {
      "image/png": "[encoded data removed]",
      "text/plain": [
       "<Figure size 640x480 with 1 Axes>"
      ]
     },
     "metadata": {},
     "output_type": "display_data"
    }
   ],
   "source": [
    "count,bins,x=plt.hist(visa_df['prevailing_wage'], bins=20)\n",
    "print(len(count))\n",
    "print(len(bins))\n",
    "print(x)"
   ]
  },
  {
   "cell_type": "markdown",
   "id": "2e8a6707",
   "metadata": {},
   "source": [
    "**Verify below two statements**\n",
    "\n",
    "- 3863 observations are available between 2.136 to 15962.54\n",
    "- Similarly 2175 observations are available between (15962.5434, 31922.95)"
   ]
  },
  {
   "cell_type": "code",
   "execution_count": 104,
   "id": "47c30d3c",
   "metadata": {},
   "outputs": [
    {
     "name": "stdout",
     "output_type": "stream",
     "text": [
      "3863\n",
      "24206.0\n"
     ]
    }
   ],
   "source": [
    "lb=2.136\n",
    "ub=15962.54\n",
    "cond1=visa_df['prevailing_wage'] < ub\n",
    "cond2=visa_df['prevailing_wage'] > lb\n",
    "cond3=cond1 & cond2\n",
    "print(len(visa_df[cond3]))"
   ]
  },
  {
   "cell_type": "code",
   "execution_count": 105,
   "id": "f0d13e30",
   "metadata": {},
   "outputs": [
    {
     "name": "stdout",
     "output_type": "stream",
     "text": [
      "2175\n"
     ]
    }
   ],
   "source": [
    "lb=15962.5434\n",
    "ub=31922.95\n",
    "cond1=visa_df['prevailing_wage'] < ub\n",
    "cond2=visa_df['prevailing_wage'] > lb\n",
    "cond3=cond1 & cond2\n",
    "print(len(visa_df[cond3]))"
   ]
  },
  {
   "cell_type": "code",
   "execution_count": 106,
   "id": "d2e30d7a",
   "metadata": {},
   "outputs": [
    {
     "data": {
      "text/plain": [
       "array([2.13670000e+00, 1.59625434e+04, 3.19229500e+04, 4.78833567e+04,\n",
       "       6.38437634e+04, 7.98041700e+04, 9.57645767e+04, 1.11724983e+05,\n",
       "       1.27685390e+05, 1.43645797e+05, 1.59606203e+05, 1.75566610e+05,\n",
       "       1.91527017e+05, 2.07487423e+05, 2.23447830e+05, 2.39408237e+05,\n",
       "       2.55368643e+05, 2.71329050e+05, 2.87289457e+05, 3.03249863e+05,\n",
       "       3.19210270e+05])"
      ]
     },
     "execution_count": 106,
     "metadata": {},
     "output_type": "execute_result"
    }
   ],
   "source": [
    "bins"
   ]
  },
  {
   "cell_type": "code",
   "execution_count": 107,
   "id": "e55a0bf6",
   "metadata": {},
   "outputs": [
    {
     "data": {
      "text/plain": [
       "array([3863., 2175., 2676., 2828., 2889., 2792., 2485., 2066., 1452.,\n",
       "        882.,  408.,  216.,  206.,  167.,  129.,  111.,   66.,   48.,\n",
       "         10.,   11.])"
      ]
     },
     "execution_count": 107,
     "metadata": {},
     "output_type": "execute_result"
    }
   ],
   "source": [
    "count"
   ]
  },
  {
   "cell_type": "code",
   "execution_count": 129,
   "id": "0ac8f86d",
   "metadata": {},
   "outputs": [
    {
     "data": {
      "text/html": [
       "<div>\n",
       "<style scoped>\n",
       "    .dataframe tbody tr th:only-of-type {\n",
       "        vertical-align: middle;\n",
       "    }\n",
       "\n",
       "    .dataframe tbody tr th {\n",
       "        vertical-align: top;\n",
       "    }\n",
       "\n",
       "    .dataframe thead th {\n",
       "        text-align: right;\n",
       "    }\n",
       "</style>\n",
       "<table border=\"1\" class=\"dataframe\">\n",
       "  <thead>\n",
       "    <tr style=\"text-align: right;\">\n",
       "      <th></th>\n",
       "      <th>Class Interval</th>\n",
       "      <th>Class Interval Frequency</th>\n",
       "    </tr>\n",
       "  </thead>\n",
       "  <tbody>\n",
       "    <tr>\n",
       "      <th>0</th>\n",
       "      <td>2.14 - 15962.54</td>\n",
       "      <td>3863.0</td>\n",
       "    </tr>\n",
       "    <tr>\n",
       "      <th>1</th>\n",
       "      <td>15962.54 - 31922.95</td>\n",
       "      <td>2175.0</td>\n",
       "    </tr>\n",
       "    <tr>\n",
       "      <th>2</th>\n",
       "      <td>31922.95 - 47883.36</td>\n",
       "      <td>2676.0</td>\n",
       "    </tr>\n",
       "    <tr>\n",
       "      <th>3</th>\n",
       "      <td>47883.36 - 63843.76</td>\n",
       "      <td>2828.0</td>\n",
       "    </tr>\n",
       "    <tr>\n",
       "      <th>4</th>\n",
       "      <td>63843.76 - 79804.17</td>\n",
       "      <td>2889.0</td>\n",
       "    </tr>\n",
       "    <tr>\n",
       "      <th>5</th>\n",
       "      <td>79804.17 - 95764.58</td>\n",
       "      <td>2792.0</td>\n",
       "    </tr>\n",
       "    <tr>\n",
       "      <th>6</th>\n",
       "      <td>95764.58 - 111724.98</td>\n",
       "      <td>2485.0</td>\n",
       "    </tr>\n",
       "    <tr>\n",
       "      <th>7</th>\n",
       "      <td>111724.98 - 127685.39</td>\n",
       "      <td>2066.0</td>\n",
       "    </tr>\n",
       "    <tr>\n",
       "      <th>8</th>\n",
       "      <td>127685.39 - 143645.8</td>\n",
       "      <td>1452.0</td>\n",
       "    </tr>\n",
       "    <tr>\n",
       "      <th>9</th>\n",
       "      <td>143645.8 - 159606.2</td>\n",
       "      <td>882.0</td>\n",
       "    </tr>\n",
       "    <tr>\n",
       "      <th>10</th>\n",
       "      <td>159606.2 - 175566.61</td>\n",
       "      <td>408.0</td>\n",
       "    </tr>\n",
       "    <tr>\n",
       "      <th>11</th>\n",
       "      <td>175566.61 - 191527.02</td>\n",
       "      <td>216.0</td>\n",
       "    </tr>\n",
       "    <tr>\n",
       "      <th>12</th>\n",
       "      <td>191527.02 - 207487.42</td>\n",
       "      <td>206.0</td>\n",
       "    </tr>\n",
       "    <tr>\n",
       "      <th>13</th>\n",
       "      <td>207487.42 - 223447.83</td>\n",
       "      <td>167.0</td>\n",
       "    </tr>\n",
       "    <tr>\n",
       "      <th>14</th>\n",
       "      <td>223447.83 - 239408.24</td>\n",
       "      <td>129.0</td>\n",
       "    </tr>\n",
       "    <tr>\n",
       "      <th>15</th>\n",
       "      <td>239408.24 - 255368.64</td>\n",
       "      <td>111.0</td>\n",
       "    </tr>\n",
       "    <tr>\n",
       "      <th>16</th>\n",
       "      <td>255368.64 - 271329.05</td>\n",
       "      <td>66.0</td>\n",
       "    </tr>\n",
       "    <tr>\n",
       "      <th>17</th>\n",
       "      <td>271329.05 - 287289.46</td>\n",
       "      <td>48.0</td>\n",
       "    </tr>\n",
       "    <tr>\n",
       "      <th>18</th>\n",
       "      <td>287289.46 - 303249.86</td>\n",
       "      <td>10.0</td>\n",
       "    </tr>\n",
       "    <tr>\n",
       "      <th>19</th>\n",
       "      <td>303249.86 - 319210.27</td>\n",
       "      <td>11.0</td>\n",
       "    </tr>\n",
       "  </tbody>\n",
       "</table>\n",
       "</div>"
      ],
      "text/plain": [
       "           Class Interval  Class Interval Frequency\n",
       "0         2.14 - 15962.54                    3863.0\n",
       "1     15962.54 - 31922.95                    2175.0\n",
       "2     31922.95 - 47883.36                    2676.0\n",
       "3     47883.36 - 63843.76                    2828.0\n",
       "4     63843.76 - 79804.17                    2889.0\n",
       "5     79804.17 - 95764.58                    2792.0\n",
       "6    95764.58 - 111724.98                    2485.0\n",
       "7   111724.98 - 127685.39                    2066.0\n",
       "8    127685.39 - 143645.8                    1452.0\n",
       "9     143645.8 - 159606.2                     882.0\n",
       "10   159606.2 - 175566.61                     408.0\n",
       "11  175566.61 - 191527.02                     216.0\n",
       "12  191527.02 - 207487.42                     206.0\n",
       "13  207487.42 - 223447.83                     167.0\n",
       "14  223447.83 - 239408.24                     129.0\n",
       "15  239408.24 - 255368.64                     111.0\n",
       "16  255368.64 - 271329.05                      66.0\n",
       "17  271329.05 - 287289.46                      48.0\n",
       "18  287289.46 - 303249.86                      10.0\n",
       "19  303249.86 - 319210.27                      11.0"
      ]
     },
     "execution_count": 129,
     "metadata": {},
     "output_type": "execute_result"
    }
   ],
   "source": [
    "list1 = []\n",
    "val = 0\n",
    "\n",
    "for i in range(len(bins)-1):\n",
    "    list1.append(f'{round(bins[i],2)} - {round(bins[i+1],2)}')\n",
    "\n",
    "histdf = pd.DataFrame(zip(list1,count),columns=['Class Interval', 'Class Interval Frequency'])\n",
    "histdf"
   ]
  },
  {
   "cell_type": "code",
   "execution_count": 130,
   "id": "f3a9126c",
   "metadata": {},
   "outputs": [
    {
     "name": "stderr",
     "output_type": "stream",
     "text": [
      "C:\\Users\\saina\\anaconda3\\Lib\\site-packages\\seaborn\\_oldcore.py:1119: FutureWarning: use_inf_as_na option is deprecated and will be removed in a future version. Convert inf values to NaN before operating instead.\n",
      "  with pd.option_context('mode.use_inf_as_na', True):\n"
     ]
    },
    {
     "data": {
      "text/plain": [
       "<Axes: xlabel='prevailing_wage', ylabel='Count'>"
      ]
     },
     "execution_count": 130,
     "metadata": {},
     "output_type": "execute_result"
    },
    {
     "data": {
      "image/png": "[encoded data removed]",
      "text/plain": [
       "<Figure size 640x480 with 1 Axes>"
      ]
     },
     "metadata": {},
     "output_type": "display_data"
    }
   ],
   "source": [
    "sns.histplot(visa_df['prevailing_wage'])"
   ]
  },
  {
   "cell_type": "code",
   "execution_count": null,
   "id": "e3e1684c",
   "metadata": {},
   "outputs": [],
   "source": []
  }
 ],
 "metadata": {
  "kernelspec": {
   "display_name": "Python 3 (ipykernel)",
   "language": "python",
   "name": "python3"
  },
  "language_info": {
   "codemirror_mode": {
    "name": "ipython",
    "version": 3
   },
   "file_extension": ".py",
   "mimetype": "text/x-python",
   "name": "python",
   "nbconvert_exporter": "python",
   "pygments_lexer": "ipython3",
   "version": "3.11.7"
  }
 },
 "nbformat": 4,
 "nbformat_minor": 5
}
